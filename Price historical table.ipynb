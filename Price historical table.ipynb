{
 "cells": [
  {
   "cell_type": "code",
   "execution_count": 585,
   "id": "d27f3a0a",
   "metadata": {},
   "outputs": [],
   "source": [
    "#Importing all the packages and the CSV file\n",
    "import pandas as pd\n",
    "import numpy as np\n",
    "from pandasql import sqldf\n",
    "customer_table = pd.read_csv('Customer table.csv')"
   ]
  },
  {
   "cell_type": "code",
   "execution_count": 586,
   "id": "513517d6",
   "metadata": {},
   "outputs": [
    {
     "name": "stdout",
     "output_type": "stream",
     "text": [
      "      id  customer_id  switches   value switch_start  switch_end\n",
      "0      1         1111         5    99,9   2022-01-10  2022-12-31\n",
      "1      2         1111         5  101,99   2023-01-01  2023-01-31\n",
      "2      3         1111         5  103,98   2023-02-01  2023-02-28\n",
      "3      4         1111         5  105,97   2023-03-01  2023-03-31\n",
      "4      5         1111         5  107,96   2023-04-01  2023-05-01\n",
      "..   ...          ...       ...     ...          ...         ...\n",
      "145  146         1239         1    99,9   2023-01-01  2024-01-01\n",
      "146  147         1240         1    99,9   2023-02-01  2024-02-01\n",
      "147  148         1241         1    99,9   2023-03-01  2024-02-29\n",
      "148  149         1242         1    99,9   2023-01-01  2024-01-01\n",
      "149  150         1243         1    99,9   2023-02-01  2024-02-01\n",
      "\n",
      "[150 rows x 6 columns]\n"
     ]
    }
   ],
   "source": [
    "#Removing the timestamp values from the switch columns\n",
    "customer_table['switch_start'] = customer_table['switch_start'].apply(lambda x: pd.Timestamp(x).strftime('%Y-%m-%d'))\n",
    "customer_table['switch_end'] = customer_table['switch_end'].apply(lambda x: pd.Timestamp(x).strftime('%Y-%m-%d'))\n",
    "\n",
    "#CSV Preview\n",
    "print(customer_table)"
   ]
  },
  {
   "cell_type": "code",
   "execution_count": 421,
   "id": "be6fd451",
   "metadata": {},
   "outputs": [
    {
     "name": "stdout",
     "output_type": "stream",
     "text": [
      "Creating list of dates starting from 2022-01-10 00:00:00 to 2023-05-03\n",
      "DatetimeIndex(['2022-01-10', '2022-01-11', '2022-01-12', '2022-01-13',\n",
      "               '2022-01-14', '2022-01-15', '2022-01-16', '2022-01-17',\n",
      "               '2022-01-18', '2022-01-19',\n",
      "               ...\n",
      "               '2023-04-24', '2023-04-25', '2023-04-26', '2023-04-27',\n",
      "               '2023-04-28', '2023-04-29', '2023-04-30', '2023-05-01',\n",
      "               '2023-05-02', '2023-05-03'],\n",
      "              dtype='datetime64[ns]', length=479, freq='D')\n"
     ]
    }
   ],
   "source": [
    "#Importing datetime to generate a dataframe with all dates from the beginning until today\n",
    "from datetime import datetime\n",
    "\n",
    "# start and end date\n",
    "now = datetime.now()\n",
    "start_date = datetime.strptime(\"2022-01-10\", \"%Y-%m-%d\")\n",
    "end_date = now.strftime(\"%Y-%m-%d\")\n",
    "\n",
    "#Preview\n",
    "date_list = pd.date_range(start_date, end_date, freq='D')\n",
    "print(f\"Creating list of dates starting from {start_date} to {end_date}\")\n",
    "print(date_list)"
   ]
  },
  {
   "cell_type": "code",
   "execution_count": 550,
   "id": "c4ff0741",
   "metadata": {},
   "outputs": [
    {
     "name": "stdout",
     "output_type": "stream",
     "text": [
      "       Datetime         EOM\n",
      "0    2022-01-10  2022-01-31\n",
      "1    2022-01-11  2022-01-31\n",
      "2    2022-01-12  2022-01-31\n",
      "3    2022-01-13  2022-01-31\n",
      "4    2022-01-14  2022-01-31\n",
      "..          ...         ...\n",
      "474  2023-04-29  2023-04-30\n",
      "475  2023-04-30  2023-04-30\n",
      "476  2023-05-01  2023-05-31\n",
      "477  2023-05-02  2023-05-31\n",
      "478  2023-05-03  2023-05-31\n",
      "\n",
      "[479 rows x 2 columns]\n"
     ]
    }
   ],
   "source": [
    "from pandas.tseries.offsets import MonthEnd\n",
    "\n",
    "#Creating the date dataframe\n",
    "dates_df = pd.DataFrame({'Datetime': date_list})\n",
    "dates_df['EOM'] = pd.to_datetime(dates_df['Datetime'], format='%Y-%m-%d') + MonthEnd(0)\n",
    "\n",
    "#Transforming all the dates in yyyy-mm-dd\n",
    "dates_df['Datetime'] = dates_df['Datetime'].apply(lambda x: pd.Timestamp(x).strftime('%Y-%m-%d'))\n",
    "dates_df['EOM'] = dates_df['EOM'].apply(lambda x: pd.Timestamp(x).strftime('%Y-%m-%d'))\n",
    "\n",
    "\n",
    "#Overview of dates\n",
    "print(dates_df)"
   ]
  },
  {
   "cell_type": "code",
   "execution_count": 551,
   "id": "193fd481",
   "metadata": {},
   "outputs": [],
   "source": [
    "#Transforming all the dates in yyyy-mm-dd from the CSV file\n",
    "customer_table['switch_start'] = df['switch_start'].apply(lambda x: pd.Timestamp(x).strftime('%Y-%m-%d'))\n",
    "customer_table['switch_end'] = df['switch_end'].apply(lambda x: pd.Timestamp(x).strftime('%Y-%m-%d'))"
   ]
  },
  {
   "cell_type": "code",
   "execution_count": 587,
   "id": "52cfcdc0",
   "metadata": {},
   "outputs": [
    {
     "data": {
      "text/html": [
       "<div>\n",
       "<style scoped>\n",
       "    .dataframe tbody tr th:only-of-type {\n",
       "        vertical-align: middle;\n",
       "    }\n",
       "\n",
       "    .dataframe tbody tr th {\n",
       "        vertical-align: top;\n",
       "    }\n",
       "\n",
       "    .dataframe thead th {\n",
       "        text-align: right;\n",
       "    }\n",
       "</style>\n",
       "<table border=\"1\" class=\"dataframe\">\n",
       "  <thead>\n",
       "    <tr style=\"text-align: right;\">\n",
       "      <th></th>\n",
       "      <th>id</th>\n",
       "      <th>customer_id</th>\n",
       "      <th>switches</th>\n",
       "      <th>value</th>\n",
       "      <th>switch_start</th>\n",
       "      <th>switch_end</th>\n",
       "    </tr>\n",
       "  </thead>\n",
       "  <tbody>\n",
       "    <tr>\n",
       "      <th>0</th>\n",
       "      <td>1</td>\n",
       "      <td>1111</td>\n",
       "      <td>5</td>\n",
       "      <td>99,9</td>\n",
       "      <td>2022-01-10</td>\n",
       "      <td>2022-12-31</td>\n",
       "    </tr>\n",
       "    <tr>\n",
       "      <th>1</th>\n",
       "      <td>2</td>\n",
       "      <td>1111</td>\n",
       "      <td>5</td>\n",
       "      <td>101,99</td>\n",
       "      <td>2023-01-01</td>\n",
       "      <td>2023-01-31</td>\n",
       "    </tr>\n",
       "    <tr>\n",
       "      <th>2</th>\n",
       "      <td>3</td>\n",
       "      <td>1111</td>\n",
       "      <td>5</td>\n",
       "      <td>103,98</td>\n",
       "      <td>2023-02-01</td>\n",
       "      <td>2023-02-28</td>\n",
       "    </tr>\n",
       "    <tr>\n",
       "      <th>3</th>\n",
       "      <td>4</td>\n",
       "      <td>1111</td>\n",
       "      <td>5</td>\n",
       "      <td>105,97</td>\n",
       "      <td>2023-03-01</td>\n",
       "      <td>2023-03-31</td>\n",
       "    </tr>\n",
       "    <tr>\n",
       "      <th>4</th>\n",
       "      <td>5</td>\n",
       "      <td>1111</td>\n",
       "      <td>5</td>\n",
       "      <td>107,96</td>\n",
       "      <td>2023-04-01</td>\n",
       "      <td>2023-05-01</td>\n",
       "    </tr>\n",
       "    <tr>\n",
       "      <th>...</th>\n",
       "      <td>...</td>\n",
       "      <td>...</td>\n",
       "      <td>...</td>\n",
       "      <td>...</td>\n",
       "      <td>...</td>\n",
       "      <td>...</td>\n",
       "    </tr>\n",
       "    <tr>\n",
       "      <th>145</th>\n",
       "      <td>146</td>\n",
       "      <td>1239</td>\n",
       "      <td>1</td>\n",
       "      <td>99,9</td>\n",
       "      <td>2023-01-01</td>\n",
       "      <td>2024-01-01</td>\n",
       "    </tr>\n",
       "    <tr>\n",
       "      <th>146</th>\n",
       "      <td>147</td>\n",
       "      <td>1240</td>\n",
       "      <td>1</td>\n",
       "      <td>99,9</td>\n",
       "      <td>2023-02-01</td>\n",
       "      <td>2024-02-01</td>\n",
       "    </tr>\n",
       "    <tr>\n",
       "      <th>147</th>\n",
       "      <td>148</td>\n",
       "      <td>1241</td>\n",
       "      <td>1</td>\n",
       "      <td>99,9</td>\n",
       "      <td>2023-03-01</td>\n",
       "      <td>2024-02-29</td>\n",
       "    </tr>\n",
       "    <tr>\n",
       "      <th>148</th>\n",
       "      <td>149</td>\n",
       "      <td>1242</td>\n",
       "      <td>1</td>\n",
       "      <td>99,9</td>\n",
       "      <td>2023-01-01</td>\n",
       "      <td>2024-01-01</td>\n",
       "    </tr>\n",
       "    <tr>\n",
       "      <th>149</th>\n",
       "      <td>150</td>\n",
       "      <td>1243</td>\n",
       "      <td>1</td>\n",
       "      <td>99,9</td>\n",
       "      <td>2023-02-01</td>\n",
       "      <td>2024-02-01</td>\n",
       "    </tr>\n",
       "  </tbody>\n",
       "</table>\n",
       "<p>150 rows × 6 columns</p>\n",
       "</div>"
      ],
      "text/plain": [
       "      id  customer_id  switches   value switch_start  switch_end\n",
       "0      1         1111         5    99,9   2022-01-10  2022-12-31\n",
       "1      2         1111         5  101,99   2023-01-01  2023-01-31\n",
       "2      3         1111         5  103,98   2023-02-01  2023-02-28\n",
       "3      4         1111         5  105,97   2023-03-01  2023-03-31\n",
       "4      5         1111         5  107,96   2023-04-01  2023-05-01\n",
       "..   ...          ...       ...     ...          ...         ...\n",
       "145  146         1239         1    99,9   2023-01-01  2024-01-01\n",
       "146  147         1240         1    99,9   2023-02-01  2024-02-01\n",
       "147  148         1241         1    99,9   2023-03-01  2024-02-29\n",
       "148  149         1242         1    99,9   2023-01-01  2024-01-01\n",
       "149  150         1243         1    99,9   2023-02-01  2024-02-01\n",
       "\n",
       "[150 rows x 6 columns]"
      ]
     },
     "execution_count": 587,
     "metadata": {},
     "output_type": "execute_result"
    }
   ],
   "source": [
    "#Testing SQL environment \n",
    "pysqldf = lambda q: sqldf(q)\n",
    "pysqldf(\"SELECT * FROM customer_table\")"
   ]
  },
  {
   "cell_type": "code",
   "execution_count": 588,
   "id": "5d63d2be",
   "metadata": {},
   "outputs": [
    {
     "name": "stdout",
     "output_type": "stream",
     "text": [
      "           EOM  id  customer_id  switches   value switch_start  switch_end\n",
      "0   2022-01-31   1         1111         5    99,9   2022-01-10  2022-12-31\n",
      "1   2022-02-28   1         1111         5    99,9   2022-01-10  2022-12-31\n",
      "2   2022-03-31   1         1111         5    99,9   2022-01-10  2022-12-31\n",
      "3   2022-04-30   1         1111         5    99,9   2022-01-10  2022-12-31\n",
      "4   2022-05-31   1         1111         5    99,9   2022-01-10  2022-12-31\n",
      "5   2022-06-30   1         1111         5    99,9   2022-01-10  2022-12-31\n",
      "6   2022-07-31   1         1111         5    99,9   2022-01-10  2022-12-31\n",
      "7   2022-08-31   1         1111         5    99,9   2022-01-10  2022-12-31\n",
      "8   2022-09-30   1         1111         5    99,9   2022-01-10  2022-12-31\n",
      "9   2022-10-31   1         1111         5    99,9   2022-01-10  2022-12-31\n",
      "10  2022-11-30   1         1111         5    99,9   2022-01-10  2022-12-31\n",
      "11  2022-12-31   1         1111         5    99,9   2022-01-10  2022-12-31\n",
      "12  2023-01-31   2         1111         5  101,99   2023-01-01  2023-01-31\n",
      "13  2023-02-28   3         1111         5  103,98   2023-02-01  2023-02-28\n",
      "14  2023-03-31   4         1111         5  105,97   2023-03-01  2023-03-31\n",
      "15  2023-04-30   5         1111         5  107,96   2023-04-01  2023-05-01\n"
     ]
    }
   ],
   "source": [
    "# Selecting one customer to test the join\n",
    "customer_1111 = pysqldf(\"\"\"\n",
    "           select \n",
    "           DISTINCT\n",
    "           dd.EOM, \n",
    "            ct.*\n",
    "           from dates_df dd\n",
    "               left join customer_table ct\n",
    "                   on dd.EOM >= ct.switch_start \n",
    "                       and dd.EOM <= switch_end\n",
    "           where customer_id = 1111\n",
    "           order by 1 asc\n",
    "        \"\"\")\n",
    "\n",
    "print(customer_1111)"
   ]
  },
  {
   "cell_type": "code",
   "execution_count": 590,
   "id": "fc5ee876",
   "metadata": {},
   "outputs": [
    {
     "name": "stdout",
     "output_type": "stream",
     "text": [
      "     customer_id  switches  distinct_switch_value  row_count    min_date  \\\n",
      "0           1111         5                      5        476  2022-01-31   \n",
      "1           1112         2                      2        123  2023-01-31   \n",
      "2           1113         3                      3        123  2023-01-31   \n",
      "3           1114         1                      1        154  2022-12-31   \n",
      "4           1115         1                      1        154  2022-12-31   \n",
      "..           ...       ...                    ...        ...         ...   \n",
      "128         1239         1                      1        123  2023-01-31   \n",
      "129         1240         1                      1         92  2023-02-28   \n",
      "130         1241         1                      1         64  2023-03-31   \n",
      "131         1242         1                      1        123  2023-01-31   \n",
      "132         1243         1                      1         92  2023-02-28   \n",
      "\n",
      "       max_date  \n",
      "0    2023-04-30  \n",
      "1    2023-05-31  \n",
      "2    2023-05-31  \n",
      "3    2023-05-31  \n",
      "4    2023-05-31  \n",
      "..          ...  \n",
      "128  2023-05-31  \n",
      "129  2023-05-31  \n",
      "130  2023-05-31  \n",
      "131  2023-05-31  \n",
      "132  2023-05-31  \n",
      "\n",
      "[133 rows x 6 columns]\n"
     ]
    }
   ],
   "source": [
    "#Checking all customer ids and the number of switches, rows and min/max dates\n",
    "customer_check = pysqldf(\"\"\"\n",
    "            select \n",
    "                distinct customer_id, \n",
    "                switches,\n",
    "                count(distinct value) as distinct_switch_value,\n",
    "                count (*) as row_count,\n",
    "                min(EOM) as min_date, \n",
    "                max(EOM) as max_date\n",
    "            from dates_df dd\n",
    "                left join customer_table ct\n",
    "                    on dd.EOM >= ct.switch_start \n",
    "                    and dd.EOM <= switch_end\n",
    "            group by 1,2 \n",
    "        \"\"\")\n",
    "\n",
    "print(customer_check)"
   ]
  },
  {
   "cell_type": "code",
   "execution_count": 591,
   "id": "1e7a5667",
   "metadata": {},
   "outputs": [
    {
     "name": "stdout",
     "output_type": "stream",
     "text": [
      "            EOM   id  customer_id  switches value switch_start  switch_end\n",
      "0    2022-01-31    1         1111         5  99,9   2022-01-10  2022-12-31\n",
      "1    2022-01-31   18         1120         5  99,9   2022-01-10  2022-12-31\n",
      "2    2022-01-31   69         1166         4   101   2022-01-10  2022-12-31\n",
      "3    2022-02-28    1         1111         5  99,9   2022-01-10  2022-12-31\n",
      "4    2022-02-28   18         1120         5  99,9   2022-01-10  2022-12-31\n",
      "..          ...  ...          ...       ...   ...          ...         ...\n",
      "687  2023-05-31  146         1239         1  99,9   2023-01-01  2024-01-01\n",
      "688  2023-05-31  147         1240         1  99,9   2023-02-01  2024-02-01\n",
      "689  2023-05-31  148         1241         1  99,9   2023-03-01  2024-02-29\n",
      "690  2023-05-31  149         1242         1  99,9   2023-01-01  2024-01-01\n",
      "691  2023-05-31  150         1243         1  99,9   2023-02-01  2024-02-01\n",
      "\n",
      "[692 rows x 7 columns]\n"
     ]
    }
   ],
   "source": [
    "#Final output\n",
    "customer_final = pysqldf(\"\"\"\n",
    "           select \n",
    "           DISTINCT\n",
    "            dd.EOM, \n",
    "            ct.*\n",
    "           from dates_df dd\n",
    "               left join customer_table ct\n",
    "                   on dd.EOM >= ct.switch_start \n",
    "                       and dd.EOM <= switch_end\n",
    "           order by 1 asc\n",
    "        \"\"\")\n",
    "\n",
    "print(customer_final)"
   ]
  },
  {
   "cell_type": "code",
   "execution_count": 592,
   "id": "c3f36870",
   "metadata": {},
   "outputs": [],
   "source": [
    "#Exporting CSV\n",
    "customer_final.to_csv('customer_final.csv', index=False)"
   ]
  },
  {
   "cell_type": "code",
   "execution_count": 559,
   "id": "7a129b3d",
   "metadata": {},
   "outputs": [],
   "source": [
    "#import library and data\n",
    "import cutecharts.charts as ctc"
   ]
  },
  {
   "cell_type": "code",
   "execution_count": 594,
   "id": "d827b558",
   "metadata": {},
   "outputs": [
    {
     "name": "stdout",
     "output_type": "stream",
     "text": [
      "        EOM     value  customers\n",
      "0   2022/01    6578.0          3\n",
      "1   2022/02    8372.0          3\n",
      "2   2022/03    9269.0          3\n",
      "3   2022/04    8970.0          3\n",
      "4   2022/05    9269.0          3\n",
      "5   2022/06    8970.0          3\n",
      "6   2022/07    9269.0          3\n",
      "7   2022/08    9269.0          3\n",
      "8   2022/09    8970.0          3\n",
      "9   2022/10   24614.0          8\n",
      "10  2022/11   41640.0         14\n",
      "11  2022/12  211823.0         69\n",
      "12  2023/01  264182.0         86\n",
      "13  2023/02  266112.0         96\n",
      "14  2023/03  352935.0        115\n",
      "15  2023/04  356400.0        120\n",
      "16  2023/05   37125.0        125\n"
     ]
    }
   ],
   "source": [
    "#Output for acquired cohort analysis\n",
    "acquired_cohort = pysqldf(\"\"\"\n",
    "            WITH \n",
    "            customer_table_idx AS \n",
    "            (\n",
    "            SELECT \n",
    "                switch_start,\n",
    "                switch_end,\n",
    "                customer_id,\n",
    "                value as switch_value,\n",
    "                row_number() over (partition by customer_id order by switch_start asc) as first_idx,\n",
    "                row_number() over (partition by customer_id order by switch_start desc) as last_idx\n",
    "            FROM customer_table\n",
    "            )\n",
    "           select \n",
    "           DISTINCT \n",
    "            strftime ('%Y/%m',dd.EOM) AS EOM,\n",
    "            sum(switch_value) as value,\n",
    "            count(distinct customer_id) as customers\n",
    "           from dates_df dd\n",
    "               left join customer_table_idx ct\n",
    "                   on dd.EOM >= ct.switch_start \n",
    "                       and dd.EOM <= switch_end\n",
    "           where first_idx = 1\n",
    "          group by 1 order by 1 asc\n",
    "        \"\"\")\n",
    "\n",
    "print(acquired_cohort)"
   ]
  },
  {
   "cell_type": "code",
   "execution_count": 603,
   "id": "a9180251",
   "metadata": {},
   "outputs": [
    {
     "data": {
      "text/html": [
       "\n",
       "<script>\n",
       "    require.config({\n",
       "        paths: {\n",
       "            'chartXkcd':'https://cdn.jsdelivr.net/npm/chart.xkcd@1.1/dist/chart.xkcd.min'\n",
       "        }\n",
       "    });\n",
       "</script>\n",
       "\n",
       "<div id=\"69a50024cfdf4443b6f586f7d351157b\" class=\"chart-container\" style=\"width: 1200px\">\n",
       "        <svg id=\"chart_69a50024cfdf4443b6f586f7d351157b\"></svg>\n",
       "    </div>\n",
       "    <script>\n",
       "        require(['chartXkcd'], function(chartXkcd) {\n",
       "            const svg_69a50024cfdf4443b6f586f7d351157b = document.querySelector('#chart_69a50024cfdf4443b6f586f7d351157b')\n",
       "            const chart_69a50024cfdf4443b6f586f7d351157b = new chartXkcd.Bar(svg_69a50024cfdf4443b6f586f7d351157b, {\"title\": \"Acquired Customers at EOM\", \"data\": {\"datasets\": [{\"label\": \"Acquired Customers\", \"data\": [3, 3, 3, 3, 3, 3, 3, 3, 3, 8, 14, 69, 86, 96, 115, 120, 125]}], \"labels\": [\"2022/01\", \"2022/02\", \"2022/03\", \"2022/04\", \"2022/05\", \"2022/06\", \"2022/07\", \"2022/08\", \"2022/09\", \"2022/10\", \"2022/11\", \"2022/12\", \"2023/01\", \"2023/02\", \"2023/03\", \"2023/04\", \"2023/05\"]}, \"yLabel\": \"Number of Acquired Customers\", \"options\": {\"yTickCount\": 3}});\n",
       "        })\n",
       "    </script>\n"
      ],
      "text/plain": [
       "<cutecharts.render.engine.HTML at 0x7fa2a63000a0>"
      ]
     },
     "execution_count": 603,
     "metadata": {},
     "output_type": "execute_result"
    }
   ],
   "source": [
    "import cutecharts.globals as ctcg\n",
    "\n",
    "\n",
    "chart = ctc.Bar('Acquired Customers at EOM',width='1200px',height='800px')\n",
    "chart.set_options(\n",
    " labels=list(acquired_cohort['EOM']),\n",
    " y_label='Number of Acquired Customers' \n",
    " )\n",
    "chart.add_series('Acquired Customers' ,list(acquired_cohort['customers']))\n",
    "chart.render_notebook()"
   ]
  },
  {
   "cell_type": "code",
   "execution_count": null,
   "id": "a5ab18e6",
   "metadata": {},
   "outputs": [],
   "source": []
  }
 ],
 "metadata": {
  "kernelspec": {
   "display_name": "Python 3 (ipykernel)",
   "language": "python",
   "name": "python3"
  },
  "language_info": {
   "codemirror_mode": {
    "name": "ipython",
    "version": 3
   },
   "file_extension": ".py",
   "mimetype": "text/x-python",
   "name": "python",
   "nbconvert_exporter": "python",
   "pygments_lexer": "ipython3",
   "version": "3.9.13"
  }
 },
 "nbformat": 4,
 "nbformat_minor": 5
}
